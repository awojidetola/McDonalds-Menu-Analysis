{
 "cells": [
  {
   "cell_type": "markdown",
   "metadata": {},
   "source": [
    "# McDonalds Data Analysis\n",
    "\n",
    "This dataset provides a nutrition analysis of every menu item on the US McDonald's menu, including breakfast, beef burgers, chicken and fish sandwiches, fries, salads, soda, coffee and tea, milkshakes, and desserts. The menu items and nutritional facts were scraped from the McDonald's website. "
   ]
  },
  {
   "cell_type": "code",
   "execution_count": 1,
   "metadata": {},
   "outputs": [],
   "source": [
    "import pandas as pd\n",
    "import numpy as np\n",
    "import matplotlib.pyplot as plt\n",
    "import seaborn as sns"
   ]
  },
  {
   "cell_type": "code",
   "execution_count": 4,
   "metadata": {},
   "outputs": [
    {
     "data": {
      "text/html": [
       "<div>\n",
       "<style scoped>\n",
       "    .dataframe tbody tr th:only-of-type {\n",
       "        vertical-align: middle;\n",
       "    }\n",
       "\n",
       "    .dataframe tbody tr th {\n",
       "        vertical-align: top;\n",
       "    }\n",
       "\n",
       "    .dataframe thead th {\n",
       "        text-align: right;\n",
       "    }\n",
       "</style>\n",
       "<table border=\"1\" class=\"dataframe\">\n",
       "  <thead>\n",
       "    <tr style=\"text-align: right;\">\n",
       "      <th></th>\n",
       "      <th>Category</th>\n",
       "      <th>Item</th>\n",
       "      <th>Serving Size</th>\n",
       "      <th>Calories</th>\n",
       "      <th>Calories from Fat</th>\n",
       "      <th>Total Fat</th>\n",
       "      <th>Total Fat (% Daily Value)</th>\n",
       "      <th>Saturated Fat</th>\n",
       "      <th>Saturated Fat (% Daily Value)</th>\n",
       "      <th>Trans Fat</th>\n",
       "      <th>...</th>\n",
       "      <th>Carbohydrates</th>\n",
       "      <th>Carbohydrates (% Daily Value)</th>\n",
       "      <th>Dietary Fiber</th>\n",
       "      <th>Dietary Fiber (% Daily Value)</th>\n",
       "      <th>Sugars</th>\n",
       "      <th>Protein</th>\n",
       "      <th>Vitamin A (% Daily Value)</th>\n",
       "      <th>Vitamin C (% Daily Value)</th>\n",
       "      <th>Calcium (% Daily Value)</th>\n",
       "      <th>Iron (% Daily Value)</th>\n",
       "    </tr>\n",
       "  </thead>\n",
       "  <tbody>\n",
       "    <tr>\n",
       "      <th>0</th>\n",
       "      <td>Breakfast</td>\n",
       "      <td>Egg McMuffin</td>\n",
       "      <td>4.8 oz (136 g)</td>\n",
       "      <td>300</td>\n",
       "      <td>120</td>\n",
       "      <td>13.0</td>\n",
       "      <td>20</td>\n",
       "      <td>5.0</td>\n",
       "      <td>25</td>\n",
       "      <td>0.0</td>\n",
       "      <td>...</td>\n",
       "      <td>31</td>\n",
       "      <td>10</td>\n",
       "      <td>4</td>\n",
       "      <td>17</td>\n",
       "      <td>3</td>\n",
       "      <td>17</td>\n",
       "      <td>10</td>\n",
       "      <td>0</td>\n",
       "      <td>25</td>\n",
       "      <td>15</td>\n",
       "    </tr>\n",
       "    <tr>\n",
       "      <th>1</th>\n",
       "      <td>Breakfast</td>\n",
       "      <td>Egg White Delight</td>\n",
       "      <td>4.8 oz (135 g)</td>\n",
       "      <td>250</td>\n",
       "      <td>70</td>\n",
       "      <td>8.0</td>\n",
       "      <td>12</td>\n",
       "      <td>3.0</td>\n",
       "      <td>15</td>\n",
       "      <td>0.0</td>\n",
       "      <td>...</td>\n",
       "      <td>30</td>\n",
       "      <td>10</td>\n",
       "      <td>4</td>\n",
       "      <td>17</td>\n",
       "      <td>3</td>\n",
       "      <td>18</td>\n",
       "      <td>6</td>\n",
       "      <td>0</td>\n",
       "      <td>25</td>\n",
       "      <td>8</td>\n",
       "    </tr>\n",
       "  </tbody>\n",
       "</table>\n",
       "<p>2 rows × 24 columns</p>\n",
       "</div>"
      ],
      "text/plain": [
       "    Category               Item    Serving Size  Calories  Calories from Fat  \\\n",
       "0  Breakfast       Egg McMuffin  4.8 oz (136 g)       300                120   \n",
       "1  Breakfast  Egg White Delight  4.8 oz (135 g)       250                 70   \n",
       "\n",
       "   Total Fat  Total Fat (% Daily Value)  Saturated Fat  \\\n",
       "0       13.0                         20            5.0   \n",
       "1        8.0                         12            3.0   \n",
       "\n",
       "   Saturated Fat (% Daily Value)  Trans Fat  ...  Carbohydrates  \\\n",
       "0                             25        0.0  ...             31   \n",
       "1                             15        0.0  ...             30   \n",
       "\n",
       "   Carbohydrates (% Daily Value)  Dietary Fiber  \\\n",
       "0                             10              4   \n",
       "1                             10              4   \n",
       "\n",
       "   Dietary Fiber (% Daily Value)  Sugars  Protein  Vitamin A (% Daily Value)  \\\n",
       "0                             17       3       17                         10   \n",
       "1                             17       3       18                          6   \n",
       "\n",
       "   Vitamin C (% Daily Value)  Calcium (% Daily Value)  Iron (% Daily Value)  \n",
       "0                          0                       25                    15  \n",
       "1                          0                       25                     8  \n",
       "\n",
       "[2 rows x 24 columns]"
      ]
     },
     "execution_count": 4,
     "metadata": {},
     "output_type": "execute_result"
    }
   ],
   "source": [
    "data = pd.read_csv(\"menu.csv\")\n",
    "data.head(2)"
   ]
  },
  {
   "cell_type": "markdown",
   "metadata": {},
   "source": [
    "\n",
    "## Fats and Cholesterol\n",
    "According to the Harvard School of Public Health, instead of promoting foods with low at in calories. It is important to note that healthy fats are not only beneficial but necessary for health. Generally, there is no relationship between the percentage of calories from fat and major health hazard. Fats can be categorized into three:\n",
    "\n",
    "+ Unsaturated Fats.\n",
    "These cateory of fats are good for the health and have a lower disease risk. E.g. Vegetable Oil, Fish, Nuts, Seeds etc.\n",
    "\n",
    "+ Trans Fats\n",
    "These are bad fats and increase disease risk even when consumed in small quantities\n",
    "\n",
    "+ Saturated Fats\n",
    "These are not as harmful as Trans fat bt can be harmful if not taken in moderation. The Dietary Guidlines for America indicates that saturated fat should not be more than 10% of daily calories and the AMA (American Health Association) recommends aiming for a dietary pattern that achieves 5% to 6% of calories from saturated fats.\n"
   ]
  },
  {
   "cell_type": "code",
   "execution_count": 13,
   "metadata": {},
   "outputs": [
    {
     "data": {
      "text/plain": [
       "Category\n",
       "Beef & Pork           1.100000\n",
       "Beverages             0.000000\n",
       "Breakfast             0.107143\n",
       "Chicken & Fish        0.129630\n",
       "Coffee & Tea          0.142105\n",
       "Desserts              0.000000\n",
       "Salads                0.000000\n",
       "Smoothies & Shakes    0.535714\n",
       "Snacks & Sides        0.000000\n",
       "Name: Trans Fat, dtype: float64"
      ]
     },
     "execution_count": 13,
     "metadata": {},
     "output_type": "execute_result"
    }
   ],
   "source": [
    "data.groupby('Category')['Trans Fat'].mean() "
   ]
  },
  {
   "cell_type": "code",
   "execution_count": 67,
   "metadata": {},
   "outputs": [],
   "source": [
    "data['saturated_cholesterol'] = data['Saturated Fat']/data['Cholesterol']*100"
   ]
  },
  {
   "cell_type": "code",
   "execution_count": 70,
   "metadata": {},
   "outputs": [],
   "source": [
    "saturated_cholesterol = data.groupby('Category')['saturated_cholesterol'].mean().dropna()"
   ]
  },
  {
   "cell_type": "code",
   "execution_count": 73,
   "metadata": {},
   "outputs": [
    {
     "data": {
      "image/png": "[encoded data removed]",
      "text/plain": [
       "<Figure size 432x288 with 1 Axes>"
      ]
     },
     "metadata": {
      "needs_background": "light"
     },
     "output_type": "display_data"
    }
   ],
   "source": [
    "saturated_cholesterol.sort_values().plot.bar();"
   ]
  },
  {
   "cell_type": "code",
   "execution_count": 98,
   "metadata": {},
   "outputs": [
    {
     "data": {
      "text/plain": [
       "Item\n",
       "Frappé Chocolate Chip (Small)     21.538462\n",
       "Frappé Chocolate Chip (Medium)    21.250000\n",
       "Frappé Chocolate Chip (Large)     21.052632\n",
       "Hazelnut Iced Coffee (Small)      20.000000\n",
       "Hazelnut Latte (Medium)           20.000000\n",
       "                                    ...    \n",
       "Iced Tea (Small)                        NaN\n",
       "Sweet Tea (Child)                       NaN\n",
       "Sweet Tea (Large)                       NaN\n",
       "Sweet Tea (Medium)                      NaN\n",
       "Sweet Tea (Small)                       NaN\n",
       "Name: saturated_cholesterol, Length: 95, dtype: float64"
      ]
     },
     "execution_count": 98,
     "metadata": {},
     "output_type": "execute_result"
    }
   ],
   "source": [
    "coffee_tea = data[data.Category == 'Coffee & Tea']\n",
    "coffee_tea.groupby('Item')['saturated_cholesterol'].mean().sort_values(ascending=False)"
   ]
  },
  {
   "cell_type": "code",
   "execution_count": 84,
   "metadata": {},
   "outputs": [
    {
     "data": {
      "text/plain": [
       "Item\n",
       "Blueberry Pomegranate Smoothie (Medium)               0.000000\n",
       "Blueberry Pomegranate Smoothie (Small)                0.000000\n",
       "Mango Pineapple Smoothie (Medium)                     0.000000\n",
       "Mango Pineapple Smoothie (Small)                      0.000000\n",
       "Strawberry Banana Smoothie (Small)                    0.000000\n",
       "Strawberry Banana Smoothie (Medium)                   0.000000\n",
       "Blueberry Pomegranate Smoothie (Large)               10.000000\n",
       "Mango Pineapple Smoothie (Large)                     10.000000\n",
       "Strawberry Banana Smoothie (Large)                   10.000000\n",
       "Chocolate Shake (Medium)                             16.000000\n",
       "Vanilla Shake (Medium)                               16.000000\n",
       "Shamrock Shake (Medium)                              16.000000\n",
       "Vanilla Shake (Large)                                16.666667\n",
       "Strawberry Shake (Small)                             16.666667\n",
       "Strawberry Shake (Large)                             16.666667\n",
       "Shamrock Shake (Large)                               16.666667\n",
       "Vanilla Shake (Small)                                16.666667\n",
       "Chocolate Shake (Small)                              16.666667\n",
       "Strawberry Shake (Medium)                            17.333333\n",
       "Chocolate Shake (Large)                              17.647059\n",
       "McFlurry with Oreo Cookies (Snack)                   20.000000\n",
       "McFlurry with Oreo Cookies (Small)                   20.000000\n",
       "McFlurry with Oreo Cookies (Medium)                  21.818182\n",
       "McFlurry with Reese's Peanut Butter Cups (Medium)    25.000000\n",
       "McFlurry with M&M’s Candies (Medium)                 26.666667\n",
       "McFlurry with Reese's Peanut Butter Cups (Snack)     26.666667\n",
       "McFlurry with M&M’s Candies (Small)                  28.000000\n",
       "McFlurry with M&M’s Candies (Snack)                  28.571429\n",
       "Name: saturated_cholesterol, dtype: float64"
      ]
     },
     "execution_count": 84,
     "metadata": {},
     "output_type": "execute_result"
    }
   ],
   "source": [
    "shakes = data[data.Category == 'Smoothies & Shakes']\n",
    "shakes.groupby('Item')['saturated_cholesterol'].mean().sort_values()"
   ]
  },
  {
   "cell_type": "code",
   "execution_count": 99,
   "metadata": {},
   "outputs": [
    {
     "data": {
      "text/plain": [
       "Item\n",
       "Hamburger                                    10.000000\n",
       "McDouble                                     10.666667\n",
       "Bacon McDouble                               11.111111\n",
       "Cheeseburger                                 11.111111\n",
       "Double Cheeseburger                          11.111111\n",
       "Daily Double                                 11.250000\n",
       "Jalapeño Double                              11.250000\n",
       "Big Mac                                      11.764706\n",
       "Double Quarter Pounder with Cheese           11.875000\n",
       "Quarter Pounder with Bacon & Cheese          12.380952\n",
       "Quarter Pounder with Bacon Habanero Ranch    12.380952\n",
       "Quarter Pounder with Cheese                  12.631579\n",
       "Quarter Pounder Deluxe                       12.941176\n",
       "Bacon Clubhouse Burger                       13.043478\n",
       "McRib                                        14.285714\n",
       "Name: saturated_cholesterol, dtype: float64"
      ]
     },
     "execution_count": 99,
     "metadata": {},
     "output_type": "execute_result"
    }
   ],
   "source": [
    "beef_pork = data[data.Category == 'Beef & Pork']\n",
    "beef_pork.groupby('Item')['saturated_cholesterol'].mean().sort_values()"
   ]
  },
  {
   "cell_type": "code",
   "execution_count": 101,
   "metadata": {},
   "outputs": [
    {
     "data": {
      "text/plain": [
       "Item\n",
       "Premium Southwest Salad with Grilled Chicken       3.571429\n",
       "Premium Bacon Ranch Salad with Grilled Chicken     4.705882\n",
       "Premium Bacon Ranch Salad with Crispy Chicken      8.571429\n",
       "Premium Southwest Salad with Crispy Chicken        9.000000\n",
       "Premium Bacon Ranch Salad (without Chicken)       14.000000\n",
       "Premium Southwest Salad (without Chicken)         20.000000\n",
       "Name: saturated_cholesterol, dtype: float64"
      ]
     },
     "execution_count": 101,
     "metadata": {},
     "output_type": "execute_result"
    }
   ],
   "source": [
    "salads = data[data.Category == 'Salads']\n",
    "salads.groupby('Item')['saturated_cholesterol'].mean().sort_values()"
   ]
  },
  {
   "cell_type": "markdown",
   "metadata": {},
   "source": [
    "+ Generally, McDonalds foods have low trans fat which is good.\n",
    "+ The Smoothies and Shakes Menu Category had the highest saturated fat content. Upon analysis, it was discovered that while Fruit shakes had no saturated fat, Milk Shakes, Chocolate Shakes, Shamrock and McFlurry shakes ahd high saturated fat with McFlurry at the top of the list.\n",
    "+ There are 95 menu items for the Tea and Coffee category. Ordinary tea & coffee have no saturated fat, however, drinks with mocha, latte and chocolate are known to have a higher fat content.\n",
    "+ All the menus under Beef and Pork have a high %saturated fat content between 10% and 14%.\n",
    "+ The Premium Bacon Ranch Salad and Southwest Salad are the only salads with high cholesterol"
   ]
  }
 ],
 "metadata": {
  "kernelspec": {
   "display_name": "Python 3",
   "language": "python",
   "name": "python3"
  },
  "language_info": {
   "codemirror_mode": {
    "name": "ipython",
    "version": 3
   },
   "file_extension": ".py",
   "mimetype": "text/x-python",
   "name": "python",
   "nbconvert_exporter": "python",
   "pygments_lexer": "ipython3",
   "version": "3.7.4"
  }
 },
 "nbformat": 4,
 "nbformat_minor": 2
}
